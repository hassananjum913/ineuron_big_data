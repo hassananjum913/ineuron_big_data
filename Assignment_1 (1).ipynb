{
 "cells": [
  {
   "cell_type": "markdown",
   "id": "7354e05f-2e11-47a8-a464-d8e2704b3720",
   "metadata": {},
   "source": [
    "# LIST Qs"
   ]
  },
  {
   "cell_type": "markdown",
   "id": "fffd105d-8891-4d63-aabc-dd1a55275399",
   "metadata": {},
   "source": [
    "### 1. Given a list of numbers, write a Python program to find the sum of all the elements in the list.?\n",
    "\n",
    "#### Input: arr = [2,4,5,10], i = 1, j = 3 Output: 19"
   ]
  },
  {
   "cell_type": "code",
   "execution_count": 20,
   "id": "c62934e2-d539-4ba2-af43-2fabbc880fb0",
   "metadata": {},
   "outputs": [
    {
     "name": "stdin",
     "output_type": "stream",
     "text": [
      "Enter List members:  1,2,3,4,5\n",
      "opening element index: 2\n",
      "closing element index: 4\n"
     ]
    },
    {
     "data": {
      "text/plain": [
       "12"
      ]
     },
     "execution_count": 20,
     "metadata": {},
     "output_type": "execute_result"
    }
   ],
   "source": [
    "arr_list = input('Enter List members: ').split(',')\n",
    "i = int(input('opening element index:'))\n",
    "j =  int(input('closing element index:'))\n",
    "arr_new = [int(arr_list[k]) for k in range(len(arr_list))]\n",
    "sum(arr_new[i:j+1])"
   ]
  },
  {
   "cell_type": "markdown",
   "id": "a08a5a6c-cffc-4b8d-a18b-1f0ffa5a2f62",
   "metadata": {},
   "source": [
    " ### 2.Given an array of integers arr[] of size N and an integer, the task is to rotate the array elements to the left by d positions.?\n",
    " \n",
    " #### Input: arr[] = {1, 2, 3, 4, 5, 6, 7}, d = 2 Output: 3 4 5 6 7 1 2"
   ]
  },
  {
   "cell_type": "code",
   "execution_count": null,
   "id": "de75f14e-50d4-4aa5-80b3-3f97cfd132a1",
   "metadata": {},
   "outputs": [],
   "source": []
  },
  {
   "cell_type": "markdown",
   "id": "7cbbd705-0ccc-4759-b386-e40ddcd46474",
   "metadata": {},
   "source": [
    "### 3. Given a sequence of strings, the task is to find out the second most repeated (or frequent) string in the given sequence.\n",
    "\n",
    "#### Input : [\"aaa\", \"bbb\", \"ccc\", \"bbb\", \"aaa\", \"aaa\"] Output : bbb"
   ]
  },
  {
   "cell_type": "code",
   "execution_count": 1,
   "id": "2ec74196-f852-462b-9a9a-2734d46e8cbb",
   "metadata": {},
   "outputs": [
    {
     "name": "stdin",
     "output_type": "stream",
     "text": [
      "Enter List members:  aaa,sss,aaa,sss,sss,bbb\n"
     ]
    },
    {
     "name": "stdout",
     "output_type": "stream",
     "text": [
      "2nd highest occuring ewlement is: aaa\n"
     ]
    }
   ],
   "source": [
    "arr_list = input('Enter List members: ').split(',')\n",
    "\n",
    "arr_dict = {i:arr_list.count(i) for i in arr_list}\n",
    "\n",
    "import operator\n",
    "\n",
    "arr_sort_val = sorted(arr_dict.items(), key = operator.itemgetter(1),reverse=True)\n",
    "print('2nd highest occuring ewlement is:',arr_sort_val[1][0])"
   ]
  },
  {
   "cell_type": "markdown",
   "id": "958b015d-633d-4abc-bf11-c896af642feb",
   "metadata": {},
   "source": [
    "### 4. Difference between two lists ?\n",
    "\n",
    "#### Input: list1 = [10, 15, 20, 25, 30, 35, 40] list2 = [25, 40, 35] Output: [10, 20, 30, 15]"
   ]
  },
  {
   "cell_type": "code",
   "execution_count": 1,
   "id": "144eb5a9-8371-46dd-88f0-81d71a6c09d2",
   "metadata": {},
   "outputs": [
    {
     "data": {
      "text/plain": [
       "[20, 10, 30, 15]"
      ]
     },
     "execution_count": 1,
     "metadata": {},
     "output_type": "execute_result"
    }
   ],
   "source": [
    "list1 = [10,15,20,25,30,35,40]\n",
    "list2 = [25,40,35]\n",
    "\n",
    "set1 = set(list1)\n",
    "set2 = set(list2)\n",
    "\n",
    "list(set1.symmetric_difference(set2))"
   ]
  },
  {
   "cell_type": "markdown",
   "id": "fd760fff-8825-4db3-bebe-3864c65de4bf",
   "metadata": {},
   "source": [
    "### 5. Print all positive numbers from given list using for loop Iterate each element in the list using for loop and check if number is greater than or equal to 0. If the condition satisfies, then only print the number.?\n",
    "\n",
    "#### # Python program to print positive Numbers in a List Input: list1 = [12, -7, 5, 64, -14] Output: 12, 5, 64 Input: list2 = [12, 14, -95, 3] Output: [12, 14, 3]"
   ]
  },
  {
   "cell_type": "code",
   "execution_count": 7,
   "id": "3dddd186-167b-4e62-8b76-5c5f930feae4",
   "metadata": {},
   "outputs": [
    {
     "data": {
      "text/plain": [
       "[12, 5, 64]"
      ]
     },
     "execution_count": 7,
     "metadata": {},
     "output_type": "execute_result"
    }
   ],
   "source": [
    "list1 = [12, -7, 5, 64, -14]\n",
    "\n",
    "[i for i in list1 if i>0]"
   ]
  },
  {
   "cell_type": "markdown",
   "id": "fad3d515-286e-45fb-ab12-fb2fde6be90b",
   "metadata": {},
   "source": [
    "### 6. Write a Python program to flatten a given nested list structure.?\n",
    "\n",
    "#### Original list: [0, 10, [20, 30], 40, 50, [60, 70, 80], [90, 100, 110, 120]] Flatten list: [0, 10, 20, 30, 40, 50, 60, 70, 80, 90, 100, 110, 120]"
   ]
  },
  {
   "cell_type": "code",
   "execution_count": 9,
   "id": "0709d32f-0083-417a-86b6-9793c37f8402",
   "metadata": {},
   "outputs": [
    {
     "data": {
      "text/plain": [
       "[0, 10, 20, 30, 40, 50, 60, 70, 80, 90, 100, 110, 120]"
      ]
     },
     "execution_count": 9,
     "metadata": {},
     "output_type": "execute_result"
    }
   ],
   "source": [
    "l = [0, 10, [20, 30], 40, 50, [60, 70, 80], [90, 100, 110, 120]]\n",
    "\n",
    "l2 = []\n",
    "for i in l:\n",
    "    if type(i)== int:\n",
    "        l2.append(i)\n",
    "    else:\n",
    "        for j in i:\n",
    "            l2.append(j)\n",
    "l2            \n",
    "        \n",
    "        "
   ]
  },
  {
   "cell_type": "markdown",
   "id": "74443c17-4fc6-4905-8d27-41a9a97e7064",
   "metadata": {},
   "source": [
    "### 7. Given an array and a value, find if there is a triplet in array whose sum is equal to the given value. If there is such a triplet present in array, then print the triplet and return true. Else return false.?\n",
    "\n",
    "#### Input: array = [12, 3, 4, 1, 6, 9], sum = 24; Output: 12, 3, 9 Explanation: There is a triplet (12, 3 and 9) present in the array whose sum is 24."
   ]
  },
  {
   "cell_type": "code",
   "execution_count": 20,
   "id": "a121fc1e-61cd-4296-82b8-98d57a9cfb97",
   "metadata": {},
   "outputs": [
    {
     "name": "stdout",
     "output_type": "stream",
     "text": [
      "Required triplet is or are : [(12, 3, 9)]\n"
     ]
    }
   ],
   "source": [
    "import itertools as iter\n",
    "\n",
    "array = [12, 3, 4, 1, 6, 9]\n",
    "sum_flag = 24\n",
    "combs = []\n",
    "\n",
    "for comb in iter.combinations(array,3):\n",
    "    if sum(comb) == sum_flag:\n",
    "        combs.append(comb)\n",
    "print('Required triplet is or are :',combs)  "
   ]
  },
  {
   "cell_type": "markdown",
   "id": "fa9be341-be55-4efb-9e8c-69a558bfcd35",
   "metadata": {},
   "source": [
    "# STRING Qs"
   ]
  },
  {
   "cell_type": "markdown",
   "id": "f2a67b9a-e12e-496d-8f32-91b7a8898f03",
   "metadata": {},
   "source": [
    "### 1. Missing characters to make a string Pangram.?\n",
    "\n",
    "##### Pangram is a sentence containing every letter in the English alphabet. Given a string, find all characters that are missing from the string, i.e., the characters that can make the string a Pangram. We need to print output in alphabetic order. Input : welcome to geeksforgeeks Output : abdhijnpquvxyz Input : The quick brown fox jumps Output : adglvyz"
   ]
  },
  {
   "cell_type": "code",
   "execution_count": 36,
   "id": "9e927b38-90c3-4095-89aa-b6302913ceb1",
   "metadata": {},
   "outputs": [
    {
     "name": "stdout",
     "output_type": "stream",
     "text": [
      "Output:  abdhijnpquvxyz\n"
     ]
    }
   ],
   "source": [
    "import string\n",
    "ip = 'welcome to geeksforgeeks'\n",
    "\n",
    "all_letter = string.ascii_lowercase\n",
    "\n",
    "l2 = []\n",
    "\n",
    "list(set(ip))\n",
    "\n",
    "for i in all_letter:\n",
    "    if i not in list(set(ip)):\n",
    "        l2.append(i)\n",
    "print('Output: ',''.join(l2))"
   ]
  },
  {
   "cell_type": "markdown",
   "id": "7fe7291f-5b1b-494c-b0ce-55aaa8d8e91a",
   "metadata": {},
   "source": [
    "### 2. Find total number of non-empty substrings of a string with N characters.?\n",
    "\n",
    "#### Input : str = “abc” Output : 6 Every substring of the given string : “a”, “b”, “c”, “ab”, “bc”, “abc”"
   ]
  },
  {
   "cell_type": "code",
   "execution_count": 67,
   "id": "99520060-12d8-4195-b116-a1656abf6f07",
   "metadata": {},
   "outputs": [
    {
     "name": "stdout",
     "output_type": "stream",
     "text": [
      "Total non empty combinations:  7\n"
     ]
    }
   ],
   "source": [
    "import itertools as itr\n",
    "str1 = 'abc'\n",
    "str2 = [i for i in str1]\n",
    "\n",
    "combs = []\n",
    "for i in range(len(str2) + 1): \n",
    "    for j in itr.combinations(str2,i):\n",
    "        combs.append(j)\n",
    "all = list(combs)\n",
    "\n",
    "count = 0\n",
    "\n",
    "for i in all:\n",
    "    if i !=():\n",
    "        count=count+1\n",
    "print('Total non empty combinations: ',count)"
   ]
  },
  {
   "cell_type": "markdown",
   "id": "e12f09d7-f867-434b-b5b4-b6c6e686a76f",
   "metadata": {},
   "source": [
    "### 3. Given a string containing lowercase and uppercase letters. Sort it in such a manner that the uppercase and lowercase letters come in an alternate manner but in a sorted way.?\n",
    "\n",
    "#### Input : bAwutndekWEdkd Output :AbEdWddekkntuw"
   ]
  },
  {
   "cell_type": "code",
   "execution_count": null,
   "id": "ae650548-82fe-409e-9620-3eb9d80c646a",
   "metadata": {},
   "outputs": [],
   "source": []
  },
  {
   "cell_type": "markdown",
   "id": "a5789ace-d98f-4d11-ba27-599e373df90a",
   "metadata": {},
   "source": [
    "### 4. Write a Python program that accepts a comma separated sequence of words as input and prints the unique words in sorted form (alphanumerically). ?\n",
    "\n",
    "#### Sample Words : red, white, black, red, green, black Expected Result : black, green, red, white,red"
   ]
  },
  {
   "cell_type": "code",
   "execution_count": 70,
   "id": "8417f126-0dbe-48e5-bbd2-bf2bd335335e",
   "metadata": {},
   "outputs": [
    {
     "name": "stdin",
     "output_type": "stream",
     "text": [
      " red,white,black,red,green,black\n"
     ]
    },
    {
     "data": {
      "text/plain": [
       "['black', 'green', 'red', 'white']"
      ]
     },
     "execution_count": 70,
     "metadata": {},
     "output_type": "execute_result"
    }
   ],
   "source": [
    "words = input().split(',')\n",
    "\n",
    "word_unique_sorted = sorted(set(words))\n",
    "\n",
    "word_unique_sorted"
   ]
  },
  {
   "cell_type": "markdown",
   "id": "e80a416e-1cda-4b2e-8dde-cc9e505b56f0",
   "metadata": {},
   "source": [
    "### 5. Write a Python program to count the number of characters (character frequency) in a string. ?\n",
    "\n",
    "#### Sample String : google.com' Expected Result : {'g': 2, 'o': 3, 'l': 1, 'e': 1, '.': 1, 'c': 1, 'm': 1}"
   ]
  },
  {
   "cell_type": "code",
   "execution_count": 72,
   "id": "454d6731-f28a-4353-a03f-32edbf9f89dd",
   "metadata": {},
   "outputs": [
    {
     "data": {
      "text/plain": [
       "{'g': 2, 'o': 3, 'l': 1, 'e': 1, '.': 1, 'c': 1, 'm': 1}"
      ]
     },
     "execution_count": 72,
     "metadata": {},
     "output_type": "execute_result"
    }
   ],
   "source": [
    "str1 = 'google.com'\n",
    "str_list = [i for i in str1]\n",
    "\n",
    "word_freq = {letter:str_list.count(letter) for letter in str_list}\n",
    "word_freq"
   ]
  },
  {
   "cell_type": "markdown",
   "id": "9a174019-f4a9-40f3-b3e1-c41695280012",
   "metadata": {},
   "source": [
    "### 6. find the frequency of minimum occurring character in a python string ?\n",
    "\n",
    "#### The original string is : iNeuronNet.com The minimum of all characters in GeeksforGeeks is : i"
   ]
  },
  {
   "cell_type": "code",
   "execution_count": 79,
   "id": "920d7519-60cc-48b0-8cd4-573eb609f454",
   "metadata": {},
   "outputs": [
    {
     "name": "stdout",
     "output_type": "stream",
     "text": [
      "The min occuring element is:  i  and its freq is:  1\n"
     ]
    }
   ],
   "source": [
    "import operator as op\n",
    "\n",
    "str1 = 'iNeuronNet.com'\n",
    "str_list = [i for i in str1]\n",
    "word_freq = {letter:str_list.count(letter) for letter in str_list}\n",
    "sorted_dict = sorted(word_freq.items(), key = op.itemgetter(1))\n",
    "print('The min occuring element is: ',sorted_dict[0][0],' and its freq is: ',sorted_dict[0][1] )"
   ]
  },
  {
   "cell_type": "markdown",
   "id": "e8728bb2-1029-4fba-8a95-be0d39a3af0c",
   "metadata": {},
   "source": [
    "### 8. Write a program extract all the string characters which have odd number of occurrences.\n",
    "\n",
    "#### The original string is : geekforgeeks is best for geeks The Odd Frequency Characters are : ['k', 'i', 't', 'g', 'e', 'b']"
   ]
  },
  {
   "cell_type": "code",
   "execution_count": 87,
   "id": "25fa6f87-6576-4e80-a5d7-82354d1cc067",
   "metadata": {},
   "outputs": [
    {
     "name": "stdout",
     "output_type": "stream",
     "text": [
      "Odd Freq letters are :  ['g', 'e', 'k', 'i', 'b', 't']\n"
     ]
    }
   ],
   "source": [
    "str1 = ' geekforgeeks is best for geeks'\n",
    "str_list = [i for i in str1]\n",
    "word_freq = {letter:str_list.count(letter) for letter in str_list if letter != ' ' and str_list.count(letter)%2 !=0}\n",
    "odd_freq_letters = [i for i,j in word_freq.items()]\n",
    "\n",
    "print('Odd Freq letters are : ',odd_freq_letters)"
   ]
  },
  {
   "cell_type": "markdown",
   "id": "55551e55-780d-43e8-bd38-cd74bd5fa704",
   "metadata": {},
   "source": [
    "# Dictionary"
   ]
  },
  {
   "cell_type": "markdown",
   "id": "8d7ab5d6-ae2d-4f36-b58f-fe5a649b50b0",
   "metadata": {},
   "source": [
    "### 1. Given an input string and a pattern, check if characters in the input string follows the same order as determined by characters present in the pattern.Assume there won’t be any duplicate characters in the pattern.?\n",
    "\n",
    "#### Input: string = \"engineers rock\" pattern = \"er\";  Output: true"
   ]
  },
  {
   "cell_type": "code",
   "execution_count": null,
   "id": "e0df0c98-44f1-4570-8520-08cb8e374094",
   "metadata": {},
   "outputs": [],
   "source": []
  },
  {
   "cell_type": "markdown",
   "id": "0106f8e4-1436-4cd9-98dc-8a9d39b67bca",
   "metadata": {},
   "source": [
    "### 2.Given a list and dictionary, map each element of list with each item of dictionary, forming nested dictionary as value.?\n",
    "\n",
    "#### Input : test_dict = {‘Gfg’ : 4, ‘best’ : 9}, test_list = [8, 2] Output : {8: {‘Gfg’: 4}, 2: {‘best’: 9}}\n"
   ]
  },
  {
   "cell_type": "code",
   "execution_count": 3,
   "id": "27010e2a-7814-4e4f-a411-14fd91968f9d",
   "metadata": {},
   "outputs": [
    {
     "data": {
      "text/plain": [
       "{8: {'Gfg': 4}, 2: {'best': 9}}"
      ]
     },
     "execution_count": 3,
     "metadata": {},
     "output_type": "execute_result"
    }
   ],
   "source": [
    "test_dict = {'Gfg' : 4, 'best': 9}\n",
    "\n",
    "test_list = [8, 2]\n",
    "\n",
    "d= {}\n",
    "\n",
    "for k,v in zip(test_list,test_dict.items()):\n",
    "    d[k] = dict([v])\n",
    "d    "
   ]
  },
  {
   "cell_type": "markdown",
   "id": "bd2adb73-1452-4f77-a3cb-a2eb3f867d8b",
   "metadata": {},
   "source": [
    "### 3.Sort Dictionary key and values List ?\n",
    "\n",
    "#### Input : test_dict = {‘c’: [3], ‘b’: [12, 10], ‘a’: [19, 4]} Output : {‘a’: [4, 19], ‘b’: [10, 12], ‘c’: [3]} \n",
    "\n",
    "#### Input : test_dict = {‘c’: [10, 34, 3]} Output : {‘c’: [3, 10, 34]}"
   ]
  },
  {
   "cell_type": "code",
   "execution_count": 60,
   "id": "1261c19a-1b42-4ac5-bb05-06f74caa33f3",
   "metadata": {},
   "outputs": [
    {
     "data": {
      "text/plain": [
       "{'c': [3, 10, 34]}"
      ]
     },
     "execution_count": 60,
     "metadata": {},
     "output_type": "execute_result"
    }
   ],
   "source": [
    "test_dict2 = {'c': [10, 34, 3]}\n",
    "\n",
    "test_dict2['c'] = sorted(test_dict2['c'])\n",
    "\n",
    "dict(sorted(test_dict2.items()))"
   ]
  },
  {
   "cell_type": "markdown",
   "id": "0a607bc3-25d0-4222-a2f5-12811c46de4e",
   "metadata": {},
   "source": [
    "### 4. Remove all duplicates words from a given sentence ?\n",
    "\n",
    "##### Input : Python is great and Java is also great \n",
    "##### Output : is also Java Python and great"
   ]
  },
  {
   "cell_type": "code",
   "execution_count": 7,
   "id": "83d20df4-f538-4650-ae88-3499753875b5",
   "metadata": {},
   "outputs": [
    {
     "data": {
      "text/plain": [
       "['Python', 'is', 'and', 'also', 'Java', 'great']"
      ]
     },
     "execution_count": 7,
     "metadata": {},
     "output_type": "execute_result"
    }
   ],
   "source": [
    "input_txt = 'Python is great and Java is also great'\n",
    "\n",
    "list(set(input_txt.split()))"
   ]
  },
  {
   "cell_type": "markdown",
   "id": "c872182e-baa5-45b0-b247-26d27302fd4c",
   "metadata": {},
   "source": [
    "### 5. Inversion in nested dictionary?\n",
    "#### Input : test_dict = {“a” : {“b” : {}}, “d” : {“e” : {}}, “f” : {“g” : {}}\n",
    "#### Output : {‘b’: {‘a’: {}}, ‘e’: {‘d’: {}}, ‘g’: {‘f’: {}} \n",
    "##### Explanation : Nested dictionaries inverted as outer dictiona"
   ]
  },
  {
   "cell_type": "code",
   "execution_count": null,
   "id": "0e2ce620-9367-45b7-9c17-3ac591667e5d",
   "metadata": {},
   "outputs": [],
   "source": []
  },
  {
   "cell_type": "markdown",
   "id": "14ad5eee-20a5-4c6d-8484-b998a36a2a31",
   "metadata": {},
   "source": [
    "### 6. Given an array of n string containing lowercase letters. Find the size of largest subset of string which are anagram of each others. An anagram of a string is another string that contains same characters, only the order of characters can be different. For example, “abcd” and “dabc” are anagram of each other.?\n",
    "\n",
    "#### Input: ant magenta magnate tan gnamate \n",
    "#### Output: 3 Explanation Anagram strings(1) - ant, tan Anagram strings(2) - magenta, magnate, gnamate Thus, only second subset have largest size i.e., 3 \n",
    "\n",
    "Input: cars bikes arcs steer Output: 2"
   ]
  },
  {
   "cell_type": "markdown",
   "id": "92f134e7-883c-443b-82e0-b6d34382c902",
   "metadata": {},
   "source": [
    "# Sets"
   ]
  },
  {
   "cell_type": "markdown",
   "id": "00f8b2c4-ec71-4114-a294-d824d722401b",
   "metadata": {},
   "source": [
    "### 1. Given two lists a, b. Check if two lists have at least one element common in them.\n",
    "#### Input : a = [1, 2, 3, 4, 5] b = [5, 6, 7, 8, 9] \n",
    "#### Output : True \n",
    "\n",
    "#### Input : a=[1, 2, 3, 4, 5] b=[6, 7, 8, 9]\n",
    "#### Output : False"
   ]
  },
  {
   "cell_type": "code",
   "execution_count": 17,
   "id": "50ffdb2e-66a6-4bb5-9a60-ac836fc45cc0",
   "metadata": {},
   "outputs": [
    {
     "data": {
      "text/plain": [
       "True"
      ]
     },
     "execution_count": 17,
     "metadata": {},
     "output_type": "execute_result"
    }
   ],
   "source": [
    "a = [1, 2, 3, 4, 5] \n",
    "b = [5, 6, 7, 8, 9]\n",
    "\n",
    "set_a = set(a)\n",
    "set_b = set(b)\n",
    "\n",
    "len(set_a.intersection(set_b)) !=0"
   ]
  },
  {
   "cell_type": "code",
   "execution_count": 18,
   "id": "3c6f72d8-ea87-4d7c-86f6-6adeae4f6a38",
   "metadata": {},
   "outputs": [
    {
     "data": {
      "text/plain": [
       "False"
      ]
     },
     "execution_count": 18,
     "metadata": {},
     "output_type": "execute_result"
    }
   ],
   "source": [
    "a=[1, 2, 3, 4, 5]\n",
    "b=[6, 7, 8, 9]\n",
    "\n",
    "set_a = set(a)\n",
    "set_b = set(b)\n",
    "\n",
    "len(set_a.intersection(set_b)) !=0"
   ]
  },
  {
   "cell_type": "markdown",
   "id": "65aaee8b-91cf-46d7-a63e-09dc165e3870",
   "metadata": {},
   "source": [
    "### 2. Return a new set of identical items from two sets\n",
    "#### set1 = {10, 20, 30, 40, 50}\n",
    "#### set2 = {30, 40, 50, 60, 70}\n",
    "#### Expected output: {40, 50, 30}"
   ]
  },
  {
   "cell_type": "code",
   "execution_count": 19,
   "id": "a917a81e-6bf3-42cb-9b80-623be358c6ba",
   "metadata": {},
   "outputs": [
    {
     "data": {
      "text/plain": [
       "{30, 40, 50}"
      ]
     },
     "execution_count": 19,
     "metadata": {},
     "output_type": "execute_result"
    }
   ],
   "source": [
    "set1 = {10, 20, 30, 40, 50}\n",
    "set2 = {30, 40, 50, 60, 70}\n",
    "\n",
    "set1.intersection(set2)"
   ]
  },
  {
   "cell_type": "markdown",
   "id": "36b60843-00e2-47d0-b652-23ffc1586421",
   "metadata": {
    "tags": []
   },
   "source": [
    "### 3. Maximum and Minimum in a Set without use of inbuild max/min functions?\n",
    "#### Input : set = ([8, 16, 24, 1, 25, 3, 10, 65, 55]) Output : max is 65 Input : set = ([4, 12, 10, 9, 4, 13]) \n",
    "#### Output : min is 4"
   ]
  },
  {
   "cell_type": "code",
   "execution_count": 22,
   "id": "63744cce-873a-4ea9-bb4f-8f7cc2a018db",
   "metadata": {},
   "outputs": [],
   "source": [
    "set1 = {8, 16, 24, 1, 25, 3, 10, 65, 55}\n",
    "\n",
    "set2 = {4, 12, 10, 9, 4, 13}"
   ]
  },
  {
   "cell_type": "code",
   "execution_count": 26,
   "id": "b8f78bac-f2f1-458a-ab04-ac16a23e7b96",
   "metadata": {},
   "outputs": [],
   "source": [
    "max1 = sorted(set1)[-1]\n",
    "min2 = sorted(set2)[0]"
   ]
  },
  {
   "cell_type": "code",
   "execution_count": 27,
   "id": "47aae257-8cef-4a62-841c-45e6ddbde0dd",
   "metadata": {},
   "outputs": [
    {
     "data": {
      "text/plain": [
       "(65, 4)"
      ]
     },
     "execution_count": 27,
     "metadata": {},
     "output_type": "execute_result"
    }
   ],
   "source": [
    "max1, min2"
   ]
  },
  {
   "cell_type": "markdown",
   "id": "458bfaaa-fb56-4702-b801-23e50621b02b",
   "metadata": {},
   "source": [
    "### 4. Write a Python program to check if a set is a subset of another set\n",
    "#### Input :- x: {'mango', 'apple'} y: {'mango', 'orange'} z: {'mango'} \n",
    "#### output :- If x is subset of y False False \n",
    "\n",
    "#### If y is subset of x False False"
   ]
  },
  {
   "cell_type": "code",
   "execution_count": 30,
   "id": "ce233b48-7168-4250-8320-68ea2eeffa0b",
   "metadata": {},
   "outputs": [],
   "source": [
    "x =  {'mango', 'apple'}\n",
    "y ={'mango', 'orange'}\n",
    "z = {'mango'}"
   ]
  },
  {
   "cell_type": "code",
   "execution_count": 32,
   "id": "1d540ab2-297b-41ad-bd5f-d7ae8078688b",
   "metadata": {},
   "outputs": [
    {
     "name": "stdout",
     "output_type": "stream",
     "text": [
      "If x is subset of y : False\n",
      "If y is subset of x : False\n",
      "If z is subset of x : True\n",
      "If z is subset of y : True\n"
     ]
    }
   ],
   "source": [
    "print('If x is subset of y :',x.issubset(y))\n",
    "print('If y is subset of x :',y.issubset(x))\n",
    "print('If z is subset of x :',z.issubset(x))\n",
    "print('If z is subset of y :',z.issubset(y))"
   ]
  },
  {
   "cell_type": "markdown",
   "id": "74254162-5c3a-4f1e-99ce-1e13cf99669d",
   "metadata": {},
   "source": [
    "### 5. Write a Python program to remove the intersection of a 2nd set from the 1st set\n",
    "#### input:- Original sets: {1, 2, 3, 4, 5} {4, 5, 6, 7, 8} \n",
    "#### Output:- sn1: {1, 2, 3} sn2: {4, 5, 6, 7, 8}"
   ]
  },
  {
   "cell_type": "code",
   "execution_count": 38,
   "id": "6ccfd999-ee4d-41c0-8db1-3a33f09b1ae3",
   "metadata": {},
   "outputs": [
    {
     "name": "stdout",
     "output_type": "stream",
     "text": [
      "removed intersection of set1 and set2 from set1 : {1, 2, 3}\n",
      "removed intersection of set1 and set2 from set2 : {8, 6, 7}\n"
     ]
    }
   ],
   "source": [
    "set1 = {1, 2, 3, 4, 5}\n",
    "set2 = {4, 5, 6, 7, 8}\n",
    "\n",
    "print('removed intersection of set1 and set2 from set1 :',set1.difference(set2))\n",
    "print('removed intersection of set1 and set2 from set2 :',set2.difference(set1))"
   ]
  },
  {
   "cell_type": "markdown",
   "id": "317eacbc-817e-4abf-bd2a-3f37d66ee6c0",
   "metadata": {},
   "source": [
    "### 6. What is the result of passing a dictionary to a set constructor?"
   ]
  },
  {
   "cell_type": "code",
   "execution_count": null,
   "id": "ec8399fd-47a5-48f0-a527-2b7b61e82df3",
   "metadata": {},
   "outputs": [],
   "source": []
  },
  {
   "cell_type": "markdown",
   "id": "4338ef2b-65ab-4fce-a7a8-65817979452d",
   "metadata": {},
   "source": [
    "# Tuple "
   ]
  },
  {
   "cell_type": "markdown",
   "id": "00ec9d09-47f0-4b19-bb6a-d89e31a5be5c",
   "metadata": {},
   "source": [
    "### 1. Remove Tuples of Length K ?\n",
    "#### Input : test_list = [(4, 5), (4, ), (8, 6, 7), (1, ), (3, 4, 6, 7)], K = 2 \n",
    "#### Output : [(4, ), (8, 6, 7), (1, ), (3, 4, 6, 7)] Explanation : (4, 5) of len = 2 is removed."
   ]
  },
  {
   "cell_type": "code",
   "execution_count": 42,
   "id": "80b77595-39ee-44b7-8867-0c92a2101b7b",
   "metadata": {},
   "outputs": [
    {
     "data": {
      "text/plain": [
       "[(4,), (8, 6, 7), (1,), (3, 4, 6, 7)]"
      ]
     },
     "execution_count": 42,
     "metadata": {},
     "output_type": "execute_result"
    }
   ],
   "source": [
    "test_list = [(4, 5), (4, ), (8, 6, 7), (1, ), (3, 4, 6, 7)]\n",
    "\n",
    "[i for i in test_list if len(i) !=2]"
   ]
  },
  {
   "cell_type": "markdown",
   "id": "d1735bc7-f9a4-4868-aa34-5c1a6eaf6fa2",
   "metadata": {},
   "source": [
    "### 2. Removing duplicates from tuple ?\n",
    "#### The original tuple is : (1, 3, 5, 2, 3, 5, 1, 1, 3)\n",
    "#### The tuple after removing duplicates : (1, 3, 5, 2)"
   ]
  },
  {
   "cell_type": "code",
   "execution_count": null,
   "id": "66325d66-ccf1-4afa-bf56-2af4ded52126",
   "metadata": {},
   "outputs": [],
   "source": [
    "tup1 = (1, 3, 5, 2, 3, 5, 1, 1, 3)\n",
    "\n",
    "tuple((set(tup1)))"
   ]
  },
  {
   "cell_type": "markdown",
   "id": "707174f5-2de9-4272-911a-0f0ea31d136b",
   "metadata": {},
   "source": [
    "### 3. Flatten tuple of List to tuple ?\n",
    "#### Input : test_tuple = ([5], [6], [3], [8]) Output : (5, 6, 3, 8) Input : test_tuple = ([5, 7, 8])\n",
    "#### Output : (5, 7, 8)"
   ]
  },
  {
   "cell_type": "code",
   "execution_count": 6,
   "id": "20bc7fd1-0600-4555-b3ec-ff34a2e3a38c",
   "metadata": {},
   "outputs": [
    {
     "data": {
      "text/plain": [
       "(5, 7, 8)"
      ]
     },
     "execution_count": 6,
     "metadata": {},
     "output_type": "execute_result"
    }
   ],
   "source": [
    "test_tuple = ([5, 7, 8])\n",
    "#([5], [6], [3], [8])\n",
    "res= []\n",
    "\n",
    "for i in test_tuple:\n",
    "    if len(test_tuple)==1:\n",
    "        res_tup = tuple(i)\n",
    "    else:\n",
    "        res.append(i)\n",
    "        res_tup = tuple(res)\n",
    "res_tup        "
   ]
  },
  {
   "cell_type": "markdown",
   "id": "87bfe459-c6ca-4aa8-9305-31db735c9558",
   "metadata": {},
   "source": [
    "### 4. Remove nested records from tuple?\n",
    "#### The original tuple : (1, 5, 7, (4, 6), 10)\n",
    "#### Elements after removal of nested records : (1, 5, 7, 10)"
   ]
  },
  {
   "cell_type": "code",
   "execution_count": 13,
   "id": "82ed65d6-0ba2-42fe-a9f0-766150d9e63b",
   "metadata": {},
   "outputs": [
    {
     "data": {
      "text/plain": [
       "(1, 5, 7, 10)"
      ]
     },
     "execution_count": 13,
     "metadata": {},
     "output_type": "execute_result"
    }
   ],
   "source": [
    "tup1 = (1, 5, 7, (4, 6), 10)\n",
    "\n",
    "tuple([i for i in tup1 if type(i) != (tuple or list) ])"
   ]
  },
  {
   "cell_type": "markdown",
   "id": "679b645a-2c18-4634-867d-d3a467f64184",
   "metadata": {},
   "source": [
    "### 5. Convert Binary tuple to Integer?\n",
    "#### Basic Questions 8 The original tuple is : (1, 1, 0, 1, 0, 0, 1) Decimal number is : 105"
   ]
  },
  {
   "cell_type": "code",
   "execution_count": null,
   "id": "4d142005-97b2-4352-80fa-d225d4ceb673",
   "metadata": {},
   "outputs": [],
   "source": []
  },
  {
   "cell_type": "markdown",
   "id": "04ede4ff-490c-49c3-8d27-3885a63edd1f",
   "metadata": {},
   "source": [
    "### 6. Sort Tuples by Total digits?\n",
    "#### Input : test_list = [(3, 4, 6, 723), (1, 2), (134, 234, 34)]\n",
    "#### Output : [(1, 2), (3, 4, 6, 723), (134, 234, 34)] Explanation : 2 < 6 < 8, sorted by increasing total digits."
   ]
  },
  {
   "cell_type": "code",
   "execution_count": null,
   "id": "264ee7e3-b05c-4dac-9ec7-f05c214b638f",
   "metadata": {},
   "outputs": [],
   "source": []
  },
  {
   "cell_type": "markdown",
   "id": "10c19882-d7d9-4b06-8e84-1daef44f9813",
   "metadata": {},
   "source": [
    "# MAP & Lambda Function"
   ]
  },
  {
   "cell_type": "markdown",
   "id": "3008fb5d-2483-472d-bc01-aee2a73d1caf",
   "metadata": {},
   "source": [
    "### 1. Write a Python program to add three given lists using Python map and lambda.?\n",
    "#### Original list: \n",
    "[1, 2, 3] \n",
    "[4, 5, 6] \n",
    "[7, 8, 9] \n",
    "#### New list after adding above three lists: [12, 15, 18]"
   ]
  },
  {
   "cell_type": "code",
   "execution_count": 14,
   "id": "e2bc5d07-f790-4354-adfb-4bf5e68ecb43",
   "metadata": {},
   "outputs": [],
   "source": [
    "l1,l2,l3 = [1, 2, 3], [4, 5, 6] , [7, 8, 9]"
   ]
  },
  {
   "cell_type": "code",
   "execution_count": 21,
   "id": "5b5d33a6-1883-400a-aa7b-611c8706405e",
   "metadata": {},
   "outputs": [
    {
     "data": {
      "text/plain": [
       "[12, 15, 18]"
      ]
     },
     "execution_count": 21,
     "metadata": {},
     "output_type": "execute_result"
    }
   ],
   "source": [
    "[sum(i) for i in list(zip(l1,l2,l3))]"
   ]
  },
  {
   "cell_type": "code",
   "execution_count": 24,
   "id": "2695d6b5-b763-4abe-858b-eb9d3ccb672a",
   "metadata": {},
   "outputs": [
    {
     "data": {
      "text/plain": [
       "[12, 15, 18]"
      ]
     },
     "execution_count": 24,
     "metadata": {},
     "output_type": "execute_result"
    }
   ],
   "source": [
    "list(map(lambda i:sum(i),list(zip(l1,l2,l3))))"
   ]
  },
  {
   "cell_type": "markdown",
   "id": "8690e14d-7943-4ae7-b893-280ca5b3468d",
   "metadata": {},
   "source": [
    "### 2. Write a Python program to convert a given list of tuples to a list of strings using map function?\n",
    "#### Original list of tuples: [('red', 'pink'), ('white', 'black'), ('orange', 'green')] Convert the said list of tuples to a list of strings: ['red pink', 'white black', 'orange green']"
   ]
  },
  {
   "cell_type": "code",
   "execution_count": 17,
   "id": "1a5dd48a-ac55-4228-a3e0-07dd03314b44",
   "metadata": {},
   "outputs": [],
   "source": [
    "l = [('red', 'pink'), ('white', 'black'), ('orange', 'green')]"
   ]
  },
  {
   "cell_type": "code",
   "execution_count": 19,
   "id": "19949c3b-8f38-48f8-a05c-2f65b2fedb41",
   "metadata": {},
   "outputs": [
    {
     "data": {
      "text/plain": [
       "['red pink', 'white black', 'orange green']"
      ]
     },
     "execution_count": 19,
     "metadata": {},
     "output_type": "execute_result"
    }
   ],
   "source": [
    "list(map(lambda i:' '.join(i),l))"
   ]
  },
  {
   "cell_type": "markdown",
   "id": "fc09336a-a35b-4d35-aee4-e5eb717a6445",
   "metadata": {},
   "source": [
    "### 3. Write a Python program to add two given lists and find the difference between lists. Use map() function?\n",
    "#### Original lists: [6, 5, 3, 9] [0, 1, 7, 7] \n",
    "#### Result: [(6, 6), (6, 4), (10, -4), (16, 2)]"
   ]
  },
  {
   "cell_type": "code",
   "execution_count": 29,
   "id": "9ca013cd-5d9c-4875-8f31-f95b9002b373",
   "metadata": {},
   "outputs": [
    {
     "data": {
      "text/plain": [
       "[(6, 6), (6, 4), (10, -4), (16, 2)]"
      ]
     },
     "execution_count": 29,
     "metadata": {},
     "output_type": "execute_result"
    }
   ],
   "source": [
    "import numpy as np\n",
    "\n",
    "def add_sub(l1,l2):\n",
    "    new_l = list(zip(l1,l2))\n",
    "    for i in new_l:\n",
    "        l3 = list(zip(np.add(l1,l2),np.subtract(l1,l2)))\n",
    "        return l3\n",
    "\n",
    "l1=  [6, 5, 3, 9]\n",
    "l2=  [0, 1, 7, 7]\n",
    "\n",
    "add_sub(l1,l2)"
   ]
  },
  {
   "cell_type": "markdown",
   "id": "6bcfcea8-67ae-4811-ae34-75f7024af01e",
   "metadata": {},
   "source": [
    "### 4. Write a Python program to create Fibonacci series upto n using Lambda?\n",
    "#### Basic Questions 9 Fibonacci series upto 2: [0, 1] Fibonacci series upto 5: [0, 1, 1, 2, 3]"
   ]
  },
  {
   "cell_type": "code",
   "execution_count": 31,
   "id": "8975c688-8a52-44fe-8a3b-2a75f118e629",
   "metadata": {},
   "outputs": [
    {
     "name": "stdout",
     "output_type": "stream",
     "text": [
      "[0, 1]\n"
     ]
    }
   ],
   "source": [
    "from functools import reduce\n",
    "  \n",
    "fib = lambda n: reduce(lambda x, _: x+[x[-1]+x[-2]],\n",
    "                                 range(n-2), [0, 1])\n",
    "  \n",
    "print(fib(2))"
   ]
  },
  {
   "cell_type": "markdown",
   "id": "dd970e6f-266b-47a8-80a0-1d6aeb890cfa",
   "metadata": {},
   "source": [
    "### 5. Write a Python program to find intersection of two given arrays using Lambda ?\n",
    "#### [1, 2, 3, 5, 7, 8, 9, 10] [1, 2, 4, 8, 9] \n",
    "#### Intersection of the said arrays: [1, 2, 8, 9]"
   ]
  },
  {
   "cell_type": "code",
   "execution_count": 32,
   "id": "ed74242e-1fef-4752-8bcb-370958b02e87",
   "metadata": {},
   "outputs": [
    {
     "data": {
      "text/plain": [
       "[1, 2, 8, 9]"
      ]
     },
     "execution_count": 32,
     "metadata": {},
     "output_type": "execute_result"
    }
   ],
   "source": [
    "l1 = [1, 2, 3, 5, 7, 8, 9, 10]\n",
    "l2 = [1, 2, 4, 8, 9]\n",
    "\n",
    "list(filter(lambda x: x in l1,l2))"
   ]
  },
  {
   "cell_type": "markdown",
   "id": "e38722fa-5d22-4db1-b280-9f7c5dde23d5",
   "metadata": {},
   "source": [
    "### 6. Write a Python program to find palindromes in a given list of strings using Lambda ?\n",
    "#### Orginal list of strings: ['php', 'w3r', 'Python', 'abcd', 'Java', 'aaa']\n",
    "#### List of palindromes: ['php', 'aaa']"
   ]
  },
  {
   "cell_type": "code",
   "execution_count": 34,
   "id": "e2a258cf-75fb-4099-9769-0acc6b029e6b",
   "metadata": {},
   "outputs": [],
   "source": [
    "l1 = ['php', 'w3r', 'Python', 'abcd', 'Java', 'aaa']"
   ]
  },
  {
   "cell_type": "code",
   "execution_count": 35,
   "id": "bd67196e-0886-4e53-ba38-95c2134e02c9",
   "metadata": {},
   "outputs": [
    {
     "data": {
      "text/plain": [
       "['php', 'aaa']"
      ]
     },
     "execution_count": 35,
     "metadata": {},
     "output_type": "execute_result"
    }
   ],
   "source": [
    "list(filter(lambda x:x == x[::-1],l1))"
   ]
  },
  {
   "cell_type": "markdown",
   "id": "890d2865-1881-40a7-a4cd-fceb902f822b",
   "metadata": {},
   "source": [
    "### 7. Write a Python program to find the list with maximum and minimum length using lambda ?\n",
    "#### Original list: [[0], [1, 3], [5, 7], [9, 11], [13, 15, 17]]\n",
    "#### List with maximum length of lists: (3, [13, 15, 17]) \n",
    "#### List with minimum length of lists: (1, [0])"
   ]
  },
  {
   "cell_type": "code",
   "execution_count": 38,
   "id": "4217b9f8-e6a1-496c-9ef0-17a8ea09c367",
   "metadata": {},
   "outputs": [
    {
     "name": "stdout",
     "output_type": "stream",
     "text": [
      "Original list:\n",
      "[[0], [1, 3], [5, 7], [9, 11], [13, 15, 17]]\n",
      "\n",
      "List with maximum length of lists:\n",
      "(3, [13, 15, 17])\n",
      "\n",
      "List with minimum length of lists:\n",
      "(1, [0])\n"
     ]
    }
   ],
   "source": [
    "def max_length_list(input_list):\n",
    "    max_length = max(len(x) for x in input_list )   \n",
    "    max_list = max(input_list, key = lambda i: len(i))    \n",
    "    return(max_length, max_list)\n",
    "    \n",
    "def min_length_list(input_list):\n",
    "    min_length = min(len(x) for x in input_list )  \n",
    "    min_list = min(input_list, key = lambda i: len(i))\n",
    "    return(min_length, min_list)\n",
    "      \n",
    "list1 = [[0], [1, 3], [5, 7], [9, 11], [13, 15, 17]]\n",
    "print(\"Original list:\")\n",
    "print(list1)\n",
    "print(\"\\nList with maximum length of lists:\")\n",
    "print(max_length_list(list1))\n",
    "print(\"\\nList with minimum length of lists:\")\n",
    "print(min_length_list(list1))"
   ]
  },
  {
   "cell_type": "markdown",
   "id": "640a7125-cbe7-4e19-ada2-666d7ccb16ec",
   "metadata": {},
   "source": [
    "### 8. Write a Python program to triple all numbers of a given list of integers.?\n",
    "### Original list: (1, 2, 3, 4, 5, 6, 7) \n",
    "### Triple of said list numbers: [3, 6, 9, 12, 15, 18, 21]"
   ]
  },
  {
   "cell_type": "code",
   "execution_count": 39,
   "id": "ab8ca7cd-88c6-417f-a1db-21848a2e716d",
   "metadata": {},
   "outputs": [
    {
     "data": {
      "text/plain": [
       "[3, 6, 9, 12, 15, 18, 21]"
      ]
     },
     "execution_count": 39,
     "metadata": {},
     "output_type": "execute_result"
    }
   ],
   "source": [
    "l = [1, 2, 3, 4, 5, 6, 7]\n",
    "    \n",
    "list(map(lambda x : x*3, l))    "
   ]
  },
  {
   "cell_type": "markdown",
   "id": "3dde2e4b-196c-4d79-bcb4-e43991580bba",
   "metadata": {},
   "source": [
    "# List Comprehension \n",
    "\n",
    "### 1. Use a nested list comprehension to find all of the numbers from 1–1000 that are divisible by any single digit besides 1 (2–9)?\n",
    "\n",
    "### 2. Use list comprehension to construct a new list but add 6 to each item?"
   ]
  },
  {
   "cell_type": "code",
   "execution_count": null,
   "id": "414f5530-3e38-4463-b08e-85cc56e7a2ea",
   "metadata": {},
   "outputs": [],
   "source": []
  },
  {
   "cell_type": "markdown",
   "id": "9309f7f7-8e29-455a-85ef-b69d88ceebd5",
   "metadata": {},
   "source": [
    "### 3. Suppose we want to create an output dictionary which contains only the odd numbers that are present in the input list as keys and their cubes as values. Let’s see how to do this using for loops and dictionary comprehension.?\n",
    "#### input = [1, 2, 3, 4, 5, 6, 7] outpur :- {1: 1, 3: 27, 5: 125, 7: 343}"
   ]
  },
  {
   "cell_type": "code",
   "execution_count": 2,
   "id": "b5801229-af58-445b-ba22-60638bd575ec",
   "metadata": {},
   "outputs": [
    {
     "data": {
      "text/plain": [
       "{1: 1, 3: 27, 5: 125, 7: 343}"
      ]
     },
     "execution_count": 2,
     "metadata": {},
     "output_type": "execute_result"
    }
   ],
   "source": [
    "input = [1, 2, 3, 4, 5, 6, 7]\n",
    "\n",
    "{i:i**3 for i in input if i%2 != 0}"
   ]
  },
  {
   "cell_type": "markdown",
   "id": "2fe67069-b1a5-4433-8551-ed80eec8d2b8",
   "metadata": {},
   "source": [
    "### 4. Given two lists containing the names of states and their corresponding capitals, construct a dictionary which maps the states with their respective capitals. Let’s see how to do this using for loops and dictionary comprehension.?\n",
    "#### state = ['Gujarat', 'Maharashtra', 'Rajasthan'] \n",
    "#### capital = ['Gandhinagar', 'Mumbai', 'Jaipur']\n",
    "#### output:- {'Gujarat': 'Gandhinagar','Maharashtra': 'Mumbai', 'Rajasthan': 'Jaipur'}"
   ]
  },
  {
   "cell_type": "code",
   "execution_count": 17,
   "id": "3fa75f37-b2ca-4132-bd38-6b3a511dbe9d",
   "metadata": {},
   "outputs": [
    {
     "data": {
      "text/plain": [
       "{'Gujarat': 'Gandhinagar', 'Maharashtra': 'Mumbai', 'Rajasthan': 'Jaipur'}"
      ]
     },
     "execution_count": 17,
     "metadata": {},
     "output_type": "execute_result"
    }
   ],
   "source": [
    "state = ['Gujarat', 'Maharashtra', 'Rajasthan']\n",
    "capital = ['Gandhinagar', 'Mumbai', 'Jaipur']\n",
    "\n",
    "{k:v for k,v in zip(state,capital) }"
   ]
  },
  {
   "cell_type": "markdown",
   "id": "19879d9d-d5cd-48a3-a59f-c32635353408",
   "metadata": {},
   "source": [
    "### 5. Transpose of Matrix using Comprehension?\n",
    "#### Input :- [[1, 2, 3, 4], [4, 5, 6, 8]] \n",
    "#### Output :- [[1, 4], [2, 5], [3, 6], [4, 8]]"
   ]
  },
  {
   "cell_type": "code",
   "execution_count": 23,
   "id": "28f28d6a-78cb-4a06-883f-d04241bd6323",
   "metadata": {},
   "outputs": [
    {
     "data": {
      "text/plain": [
       "[[1, 4], [2, 5], [3, 6], [4, 8]]"
      ]
     },
     "execution_count": 23,
     "metadata": {},
     "output_type": "execute_result"
    }
   ],
   "source": [
    "ip =  [[1, 2, 3, 4], [4, 5, 6, 8]]\n",
    "\n",
    "rez = [[ip[j][i] for j in range(len(ip))] for i in range(len(ip[0]))]\n",
    "rez\n",
    "    "
   ]
  },
  {
   "cell_type": "markdown",
   "id": "f0787133-239d-4fee-9693-04b3ae8481ea",
   "metadata": {},
   "source": [
    "### 6. We have a string ‘2459a09b’ and we want to extract all integer literals, and use int() to cast them into integers.?\n",
    "#### Input- 2459a09b' output :- [2, 4, 5, 9, 9]"
   ]
  },
  {
   "cell_type": "code",
   "execution_count": 4,
   "id": "dc3c452b-5fd6-4351-9af6-c6bce5601316",
   "metadata": {},
   "outputs": [
    {
     "data": {
      "text/plain": [
       "[2, 4, 5, 9, 9]"
      ]
     },
     "execution_count": 4,
     "metadata": {},
     "output_type": "execute_result"
    }
   ],
   "source": [
    "string = '2459a09b'\n",
    "\n",
    "[int(i) for i in string if i.isdigit() and int(i) > 0]\n"
   ]
  },
  {
   "cell_type": "markdown",
   "id": "e1e57493-24fe-4728-9d4c-c53eb6c9483f",
   "metadata": {},
   "source": [
    "### 7. Finding the elements in a list in which elements are ended with the letter ‘b’ and the length of that element is greater than 2?\n",
    "#### input :- names = ['Ch','Dh','Eh','cb','Tb','Td','Chb','Tdb'] \n",
    "#### output :- ['Chb', 'Tdb']"
   ]
  },
  {
   "cell_type": "code",
   "execution_count": 6,
   "id": "aed75413-d127-45ae-a46c-41e48ab2b369",
   "metadata": {},
   "outputs": [
    {
     "data": {
      "text/plain": [
       "['Chb', 'Tdb']"
      ]
     },
     "execution_count": 6,
     "metadata": {},
     "output_type": "execute_result"
    }
   ],
   "source": [
    "names = ['Ch','Dh','Eh','cb','Tb','Td','Chb','Tdb']\n",
    "\n",
    "[i for i in names if len(i)>2 and i[-1] =='b']"
   ]
  },
  {
   "cell_type": "markdown",
   "id": "24f79897-638e-414b-9493-cb16b7b1090f",
   "metadata": {},
   "source": [
    "### 8. Reverse each String in a Tuple using list comprehension ?\n",
    "#### Input :- 'Hello', 'Analytics', 'Vidhya' \n",
    "#### output :- ['olleH', 'scitylanA', 'ayhdiV']"
   ]
  },
  {
   "cell_type": "code",
   "execution_count": 12,
   "id": "9a9debf3-bc78-41f4-ad6e-ecefb0556b5a",
   "metadata": {},
   "outputs": [
    {
     "data": {
      "text/plain": [
       "['olleH', 'scitylanA', 'ayhdiV']"
      ]
     },
     "execution_count": 12,
     "metadata": {},
     "output_type": "execute_result"
    }
   ],
   "source": [
    "Input1 = ('Hello', 'Analytics', 'Vidhya')\n",
    "\n",
    "[i[::-1] for i in Input1]"
   ]
  },
  {
   "cell_type": "code",
   "execution_count": null,
   "id": "0203cb2b-20af-4681-84ac-b276016aa932",
   "metadata": {},
   "outputs": [],
   "source": []
  }
 ],
 "metadata": {
  "kernelspec": {
   "display_name": "Python 3 (ipykernel)",
   "language": "python",
   "name": "python3"
  },
  "language_info": {
   "codemirror_mode": {
    "name": "ipython",
    "version": 3
   },
   "file_extension": ".py",
   "mimetype": "text/x-python",
   "name": "python",
   "nbconvert_exporter": "python",
   "pygments_lexer": "ipython3",
   "version": "3.10.6"
  }
 },
 "nbformat": 4,
 "nbformat_minor": 5
}
